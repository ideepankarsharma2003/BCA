{
 "cells": [
  {
   "cell_type": "code",
   "execution_count": 2,
   "metadata": {},
   "outputs": [],
   "source": [
    "import Stack\n",
    "\n",
    "\n",
    "def DFS(graph, start):\n",
    "    # graph:-----> Python dictionary to act as an adjacency list\n",
    "\n",
    "    st = Stack.Stack()\n",
    "    st.push(start)\n",
    "    path = []\n",
    "\n",
    "    while not st.is_empty():\n",
    "        vertex = st.pop()\n",
    "        if vertex in path:\n",
    "            continue\n",
    "        path.append(vertex)\n",
    "        for neighbor in graph[vertex]:\n",
    "            st.push(neighbor)\n",
    "\n",
    "    return path"
   ]
  },
  {
   "cell_type": "code",
   "execution_count": 3,
   "metadata": {},
   "outputs": [],
   "source": [
    "\n",
    "graph = {\n",
    "    5: [3, 7],\n",
    "    3: [2, 4],\n",
    "    7: [8],\n",
    "    2: [13, 14],\n",
    "    4: [8],\n",
    "    8: [9, 10],\n",
    "    9: [11, 12],\n",
    "    10: [],\n",
    "    11: [],\n",
    "    12: [],\n",
    "    13: [],\n",
    "    14: []\n",
    "}"
   ]
  },
  {
   "cell_type": "code",
   "execution_count": 4,
   "metadata": {},
   "outputs": [
    {
     "data": {
      "text/plain": [
       "[5, 7, 8, 10, 9, 12, 11, 3, 4, 2, 14, 13]"
      ]
     },
     "execution_count": 4,
     "metadata": {},
     "output_type": "execute_result"
    }
   ],
   "source": [
    "start= 5\n",
    "DFS(graph, start)"
   ]
  }
 ],
 "metadata": {
  "interpreter": {
   "hash": "77f5994a4f4792d583b9cbc73831833bb02c0cfbb77bcb905ea66f174f635c79"
  },
  "kernelspec": {
   "display_name": "Python 3.9.9 64-bit",
   "language": "python",
   "name": "python3"
  },
  "language_info": {
   "codemirror_mode": {
    "name": "ipython",
    "version": 3
   },
   "file_extension": ".py",
   "mimetype": "text/x-python",
   "name": "python",
   "nbconvert_exporter": "python",
   "pygments_lexer": "ipython3",
   "version": "3.9.9"
  },
  "orig_nbformat": 4
 },
 "nbformat": 4,
 "nbformat_minor": 2
}
