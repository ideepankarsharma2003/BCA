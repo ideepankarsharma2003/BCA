{
 "cells": [
  {
   "cell_type": "code",
   "execution_count": 9,
   "metadata": {},
   "outputs": [
    {
     "data": {
      "text/plain": [
       "{5: [3, 7],\n",
       " 3: [2, 4],\n",
       " 7: [8],\n",
       " 2: [13, 14],\n",
       " 4: [8],\n",
       " 8: [9, 10],\n",
       " 9: [11, 12],\n",
       " 10: [],\n",
       " 11: [],\n",
       " 12: [],\n",
       " 13: [],\n",
       " 14: []}"
      ]
     },
     "execution_count": 9,
     "metadata": {},
     "output_type": "execute_result"
    }
   ],
   "source": [
    "graph = {\n",
    "    5: [3, 7],\n",
    "    3: [2, 4],\n",
    "    7: [8],\n",
    "    2: [13, 14],\n",
    "    4: [8],\n",
    "    8: [9, 10],\n",
    "    9: [11, 12],\n",
    "    10: [],\n",
    "    11: [],\n",
    "    12: [],\n",
    "    13: [],\n",
    "    14: []\n",
    "}\n",
    "\n",
    "\n",
    "graph"
   ]
  },
  {
   "cell_type": "markdown",
   "metadata": {},
   "source": [
    "# **DEPTH FIRST SEARCH(DFS)**"
   ]
  },
  {
   "cell_type": "code",
   "execution_count": 10,
   "metadata": {},
   "outputs": [
    {
     "name": "stdout",
     "output_type": "stream",
     "text": [
      "[5, 7, 8, 10, 9, 12, 11, 3, 4, 2, 14, 13]\n"
     ]
    }
   ],
   "source": [
    "import DFS\n",
    "start = 5\n",
    "print(DFS.DFS(graph, start))"
   ]
  },
  {
   "cell_type": "markdown",
   "metadata": {},
   "source": [
    "# **BREADTH FIRST SEARCH(BFS)**"
   ]
  },
  {
   "cell_type": "code",
   "execution_count": 11,
   "metadata": {},
   "outputs": [
    {
     "name": "stdout",
     "output_type": "stream",
     "text": [
      "[5, 3, 7, 2, 4, 8, 13, 14, 9, 10, 11, 12]\n"
     ]
    }
   ],
   "source": [
    "import BFS\n",
    "start = 5\n",
    "print(BFS.BFS(graph, start))\n"
   ]
  },
  {
   "cell_type": "code",
   "execution_count": null,
   "metadata": {},
   "outputs": [],
   "source": []
  }
 ],
 "metadata": {
  "interpreter": {
   "hash": "77f5994a4f4792d583b9cbc73831833bb02c0cfbb77bcb905ea66f174f635c79"
  },
  "kernelspec": {
   "display_name": "Python 3.9.9 64-bit",
   "language": "python",
   "name": "python3"
  },
  "language_info": {
   "codemirror_mode": {
    "name": "ipython",
    "version": 3
   },
   "file_extension": ".py",
   "mimetype": "text/x-python",
   "name": "python",
   "nbconvert_exporter": "python",
   "pygments_lexer": "ipython3",
   "version": "3.9.9"
  },
  "orig_nbformat": 4
 },
 "nbformat": 4,
 "nbformat_minor": 2
}
