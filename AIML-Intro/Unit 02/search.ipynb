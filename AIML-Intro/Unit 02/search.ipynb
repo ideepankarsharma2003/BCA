{
 "cells": [
  {
   "cell_type": "code",
   "execution_count": 1,
   "metadata": {},
   "outputs": [
    {
     "data": {
      "text/plain": [
       "{5: [3, 7],\n",
       " 3: [2, 4],\n",
       " 7: [8],\n",
       " 2: [13, 14],\n",
       " 4: [8],\n",
       " 8: [9, 10],\n",
       " 9: [11, 12],\n",
       " 10: [],\n",
       " 11: [],\n",
       " 12: [],\n",
       " 13: [],\n",
       " 14: []}"
      ]
     },
     "execution_count": 1,
     "metadata": {},
     "output_type": "execute_result"
    }
   ],
   "source": [
    "graph = {\n",
    "    5: [3, 7],\n",
    "    3: [2, 4],\n",
    "    7: [8],\n",
    "    2: [13, 14],\n",
    "    4: [8],\n",
    "    8: [9, 10],\n",
    "    9: [11, 12],\n",
    "    10: [],\n",
    "    11: [],\n",
    "    12: [],\n",
    "    13: [],\n",
    "    14: []\n",
    "}\n",
    "\n",
    "\n",
    "graph"
   ]
  },
  {
   "cell_type": "markdown",
   "metadata": {},
   "source": [
    "# **DEPTH FIRST SEARCH(DFS)**"
   ]
  },
  {
   "cell_type": "code",
   "execution_count": 2,
   "metadata": {},
   "outputs": [
    {
     "name": "stdout",
     "output_type": "stream",
     "text": [
      "[5, 7, 8, 10, 9, 12, 11, 3, 4, 2, 14, 13]\n"
     ]
    }
   ],
   "source": [
    "import DFS\n",
    "start = 5\n",
    "print(DFS.DFS(graph, start))"
   ]
  },
  {
   "cell_type": "markdown",
   "metadata": {},
   "source": [
    "# **BREADTH FIRST SEARCH(BFS)**"
   ]
  },
  {
   "cell_type": "code",
   "execution_count": 3,
   "metadata": {},
   "outputs": [
    {
     "name": "stdout",
     "output_type": "stream",
     "text": [
      "[5, 3, 7, 2, 4, 8, 13, 14, 9, 10, 11, 12]\n"
     ]
    }
   ],
   "source": [
    "import BFS\n",
    "start = 5\n",
    "print(BFS.BFS(graph, start))\n"
   ]
  },
  {
   "cell_type": "code",
   "execution_count": null,
   "metadata": {},
   "outputs": [],
   "source": []
  },
  {
   "cell_type": "code",
   "execution_count": null,
   "metadata": {},
   "outputs": [],
   "source": []
  },
  {
   "cell_type": "code",
   "execution_count": null,
   "metadata": {},
   "outputs": [],
   "source": []
  },
  {
   "cell_type": "code",
   "execution_count": 4,
   "metadata": {},
   "outputs": [
    {
     "data": {
      "text/plain": [
       "10"
      ]
     },
     "execution_count": 4,
     "metadata": {},
     "output_type": "execute_result"
    }
   ],
   "source": [
    "graph = {\n",
    "    's': [('a', 3), ('b', 2)],\n",
    "    'a': [('c', 4), ('d', 1)],\n",
    "    'b': [('e', 3), ('f', 1)],\n",
    "    'e': [('h', 5)],\n",
    "    'f': [('i', 2), ('g', 3)],\n",
    "    'c': [],\n",
    "    'd': [],\n",
    "    'h': [],\n",
    "    'i': [],\n",
    "    'g': [],\n",
    "\n",
    "}\n",
    "\n",
    "graph\n",
    "n = graph.keys().__len__()\n",
    "n\n",
    "\n",
    "# for neighbour in graph['s']:\n",
    "#     print(neighbour[0])\n"
   ]
  },
  {
   "cell_type": "code",
   "execution_count": 5,
   "metadata": {},
   "outputs": [
    {
     "data": {
      "text/plain": [
       "[[], [], [], [], [], [], [], [], [], [], [], [], [], []]"
      ]
     },
     "execution_count": 5,
     "metadata": {},
     "output_type": "execute_result"
    }
   ],
   "source": [
    "import Graph\n",
    "\n",
    "vertices= 14\n",
    "graph= Graph.makeGraph(vertices) # list of 14 empty lists\n",
    "graph"
   ]
  },
  {
   "cell_type": "code",
   "execution_count": null,
   "metadata": {},
   "outputs": [],
   "source": []
  },
  {
   "cell_type": "markdown",
   "metadata": {},
   "source": [
    "# **BEST FIRST SEARCH**"
   ]
  },
  {
   "cell_type": "code",
   "execution_count": 6,
   "metadata": {},
   "outputs": [
    {
     "name": "stdout",
     "output_type": "stream",
     "text": [
      "\n",
      "vertex: [(3, 'a'), (2, 'b')]\n",
      "cur. path: []\n",
      "closed:  ['a']\n",
      "closed:  ['a', 'b']\n",
      "\n",
      "vertex: [(3, 'e'), (1, 'f')]\n",
      "cur. path: ['s']\n",
      "closed:  ['a', 'b', 'e']\n",
      "closed:  ['a', 'b', 'e', 'f']\n",
      "\n",
      "vertex: [(2, 'i'), (3, 'g')]\n",
      "cur. path: ['s', 'b']\n",
      "closed:  ['a', 'b', 'e', 'f', 'i']\n",
      "closed:  ['a', 'b', 'e', 'f', 'i', 'g']\n",
      "\n",
      "vertex: []\n",
      "cur. path: ['s', 'b', 'f']\n",
      "\n",
      "vertex: [(4, 'c'), (1, 'd')]\n",
      "cur. path: ['s', 'b', 'f', 'i']\n",
      "closed:  ['a', 'b', 'e', 'f', 'i', 'g', 'c']\n",
      "closed:  ['a', 'b', 'e', 'f', 'i', 'g', 'c', 'd']\n",
      "\n",
      "vertex: []\n",
      "cur. path: ['s', 'b', 'f', 'i', 'a']\n",
      "\n",
      "vertex: [(5, 'h')]\n",
      "cur. path: ['s', 'b', 'f', 'i', 'a', 'd']\n",
      "closed:  ['a', 'b', 'e', 'f', 'i', 'g', 'c', 'd', 'h']\n",
      "\n",
      "vertex: []\n",
      "cur. path: ['s', 'b', 'f', 'i', 'a', 'd', 'e']\n",
      "\n",
      "\n",
      "Final path:=>    ['s', 'b', 'f', 'i', 'a', 'd', 'e', 'g']\n",
      "\n",
      "vertex: [(3, 'a'), (2, 'b')]\n",
      "cur. path: []\n",
      "closed:  ['a']\n",
      "closed:  ['a', 'b']\n",
      "\n",
      "vertex: [(3, 'e'), (1, 'f')]\n",
      "cur. path: ['s']\n",
      "closed:  ['a', 'b', 'e']\n",
      "closed:  ['a', 'b', 'e', 'f']\n",
      "\n",
      "vertex: [(2, 'i'), (3, 'g')]\n",
      "cur. path: ['s', 'b']\n",
      "closed:  ['a', 'b', 'e', 'f', 'i']\n",
      "closed:  ['a', 'b', 'e', 'f', 'i', 'g']\n",
      "\n",
      "vertex: []\n",
      "cur. path: ['s', 'b', 'f']\n",
      "\n",
      "vertex: [(4, 'c'), (1, 'd')]\n",
      "cur. path: ['s', 'b', 'f', 'i']\n",
      "closed:  ['a', 'b', 'e', 'f', 'i', 'g', 'c']\n",
      "closed:  ['a', 'b', 'e', 'f', 'i', 'g', 'c', 'd']\n",
      "\n",
      "vertex: []\n",
      "cur. path: ['s', 'b', 'f', 'i', 'a']\n",
      "\n",
      "vertex: [(5, 'h')]\n",
      "cur. path: ['s', 'b', 'f', 'i', 'a', 'd']\n",
      "closed:  ['a', 'b', 'e', 'f', 'i', 'g', 'c', 'd', 'h']\n",
      "\n",
      "vertex: []\n",
      "cur. path: ['s', 'b', 'f', 'i', 'a', 'd', 'e']\n",
      "\n",
      "\n",
      "Final path:=>    ['s', 'b', 'f', 'i', 'a', 'd', 'e', 'g']\n"
     ]
    }
   ],
   "source": [
    "import BestFirstSearch\n",
    "graph = {\n",
    "    's': [(3, 'a'), (2, 'b')],\n",
    "    'a': [(4, 'c'), (1, 'd')],\n",
    "    'b': [(3, 'e'), (1, 'f')],\n",
    "    'e': [(5, 'h')],\n",
    "    'f': [(2, 'i'), (3, 'g')],\n",
    "    'c': [],\n",
    "    'd': [],\n",
    "    'h': [],\n",
    "    'i': [],\n",
    "    'g': [],\n",
    "\n",
    "}\n",
    "\n",
    "start = 's'\n",
    "goal = 'g'\n",
    "print(BestFirstSearch.best_first_search(graph, start, goal))\n"
   ]
  },
  {
   "cell_type": "code",
   "execution_count": 9,
   "metadata": {},
   "outputs": [
    {
     "name": "stdout",
     "output_type": "stream",
     "text": [
      "\n",
      "vertex: [(9, 'a'), (4, 'b')]\n",
      "cur. path: []\n",
      "closed:  ['a']\n",
      "closed:  ['a', 'b']\n",
      "\n",
      "vertex: [(7, 'e'), (4, 'f'), (7, 's')]\n",
      "cur. path: ['s']\n",
      "closed:  ['a', 'b', 'e']\n",
      "closed:  ['a', 'b', 'e', 'f']\n",
      "closed:  ['a', 'b', 'e', 'f', 's']\n",
      "\n",
      "vertex: [(5, 'i'), (3, 'g'), (4, 'b')]\n",
      "cur. path: ['s', 'b']\n",
      "closed:  ['a', 'b', 'e', 'f', 's', 'i']\n",
      "closed:  ['a', 'b', 'e', 'f', 's', 'i', 'g']\n",
      "\n",
      "vertex: [(3, 'f')]\n",
      "cur. path: ['s', 'b', 'f']\n",
      "\n",
      "\n",
      "Final path:=>    ['s', 'b', 'f', 'g']\n"
     ]
    }
   ],
   "source": [
    "import BestFirstSearch\n",
    "\n",
    "# same graph different heuristic function\n",
    "graph = {\n",
    "    's': [(9, 'a'), (4, 'b')],\n",
    "    'a': [(13, 'c'), (10, 'd'), (6, 's')],\n",
    "    'b': [(7, 'e'), (4, 'f'), (7, 's')],\n",
    "    'e': [(12, 'h'), (4, 'b')],\n",
    "    'f': [(5, 'i'), (3, 'g'), (4, 'b')],\n",
    "    'c': [(6, 'a')],\n",
    "    'd': [(6, 'a')],\n",
    "    'h': [(7, 'e')],\n",
    "    'i': [(3, 'f')],\n",
    "    'g': [(3, 'f')],\n",
    "\n",
    "}\n",
    "\n",
    "\n",
    "start = 's'\n",
    "goal = 'g'\n",
    "print(BestFirstSearch.best_first_search(graph, start, goal))\n"
   ]
  },
  {
   "cell_type": "code",
   "execution_count": null,
   "metadata": {},
   "outputs": [],
   "source": []
  }
 ],
 "metadata": {
  "interpreter": {
   "hash": "77f5994a4f4792d583b9cbc73831833bb02c0cfbb77bcb905ea66f174f635c79"
  },
  "kernelspec": {
   "display_name": "Python 3.9.9 64-bit",
   "language": "python",
   "name": "python3"
  },
  "language_info": {
   "codemirror_mode": {
    "name": "ipython",
    "version": 3
   },
   "file_extension": ".py",
   "mimetype": "text/x-python",
   "name": "python",
   "nbconvert_exporter": "python",
   "pygments_lexer": "ipython3",
   "version": "3.9.9"
  },
  "orig_nbformat": 4
 },
 "nbformat": 4,
 "nbformat_minor": 2
}
