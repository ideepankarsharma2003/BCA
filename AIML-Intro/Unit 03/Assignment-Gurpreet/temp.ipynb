{
 "cells": [
  {
   "cell_type": "markdown",
   "metadata": {},
   "source": [
    "#  **K means algorithm**"
   ]
  },
  {
   "cell_type": "markdown",
   "metadata": {},
   "source": [
    "\n",
    "1.Create an unlabelled dataset composed of five blobs. Decide on the value of K after visualizing the data. Train K means algorithm on this dataset. Display the predicted value and the cluster centroids.\n",
    "Assign the new instance ([0,2], [3,2], [-3,3], [-3,2.5]) to the closest cluster"
   ]
  },
  {
   "cell_type": "code",
   "execution_count": null,
   "metadata": {},
   "outputs": [],
   "source": [
    "import numpy as np\n",
    "import pandas as pd\n",
    "from matplotlib import pyplot as plt\n",
    "from sklearn.datasets import make_blobs \n",
    "from sklearn.cluster import KMeans\n"
   ]
  },
  {
   "cell_type": "code",
   "execution_count": null,
   "metadata": {},
   "outputs": [],
   "source": [
    "# unlabelled dataset composed of five blobs\n",
    "blobs= 5 # number of blobs\n",
    "X, y = make_blobs(n_samples=200, centers=blobs, cluster_std=0.70, random_state=3) # cluster standard deviation is 0.70 and 200 data samples\n",
    "plt.scatter(X[:,0], X[:,1])"
   ]
  },
  {
   "cell_type": "code",
   "execution_count": null,
   "metadata": {},
   "outputs": [],
   "source": [
    "# Decide on the value of K after visualizing the data\n",
    "k= 5\n",
    "\n",
    "kmeans = KMeans(n_clusters=k, init='k-means++',\n",
    "                max_iter=300, n_init=10, random_state=0)\n",
    "\n",
    "# Train K means algorithm on this dataset\n",
    "pred_y = kmeans.fit_predict(X)\n",
    "plt.scatter(X[:, 0], X[:, 1])\n",
    "plt.scatter(kmeans.cluster_centers_[:, 0],\n",
    "            kmeans.cluster_centers_[:, 1], s=300, c='red')\n",
    "plt.show()\n"
   ]
  },
  {
   "cell_type": "code",
   "execution_count": null,
   "metadata": {},
   "outputs": [],
   "source": [
    "test_set= [[0,2], [3,2], [-3,3], [-3,2.5]]\n",
    "test_set= np.array(test_set)\n",
    "test_set"
   ]
  },
  {
   "cell_type": "code",
   "execution_count": null,
   "metadata": {},
   "outputs": [],
   "source": [
    "# Assign the new instance ([0,2], [3,2], [-3,3], [-3,2.5]) to the closest cluster\n",
    "pred_test_y = kmeans.predict(test_set)\n",
    "plt.scatter(test_set[:, 0], test_set[:, 1])\n",
    "plt.scatter(kmeans.cluster_centers_[:, 0],\n",
    "            kmeans.cluster_centers_[:, 1], s=300, c='red')\n",
    "plt.show()\n"
   ]
  },
  {
   "cell_type": "code",
   "execution_count": null,
   "metadata": {},
   "outputs": [],
   "source": []
  },
  {
   "cell_type": "code",
   "execution_count": null,
   "metadata": {},
   "outputs": [],
   "source": []
  },
  {
   "cell_type": "markdown",
   "metadata": {},
   "source": [
    "#  **Hierarchical clustering algorithm**"
   ]
  },
  {
   "cell_type": "markdown",
   "metadata": {},
   "source": [
    "\n",
    "2.Implement Hierarchical clustering algorithm for the dataset formed in the above program. Plot the dendrogram. Mark the cuts in the tree that signify 3,4 and 5 clusters."
   ]
  },
  {
   "cell_type": "code",
   "execution_count": null,
   "metadata": {},
   "outputs": [],
   "source": [
    "import numpy as np\n",
    "import pandas as pd\n",
    "from matplotlib import pyplot as plt\n",
    "from sklearn.datasets import make_blobs\n",
    "from scipy.cluster.hierarchy import dendrogram, linkage\n",
    "from sklearn.cluster import AgglomerativeClustering\n"
   ]
  },
  {
   "cell_type": "code",
   "execution_count": null,
   "metadata": {},
   "outputs": [],
   "source": [
    "# unlabelled dataset composed of five blobs\n",
    "blobs= 5 # number of blobs\n",
    "X, y = make_blobs(n_samples=200, centers=blobs, cluster_std=0.70, random_state=3) # cluster standard deviation is 0.70 and 200 data samples\n",
    "plt.scatter(X[:,0], X[:,1])"
   ]
  },
  {
   "cell_type": "code",
   "execution_count": null,
   "metadata": {},
   "outputs": [],
   "source": [
    "# Plot the dendrogram\n",
    "linked = linkage(X, 'single')\n",
    "\n",
    "labelList = y\n",
    "\n",
    "plt.figure(figsize=(10, 7))\n",
    "dendrogram(linked,\n",
    "           orientation='top',\n",
    "           labels=labelList,\n",
    "           distance_sort='descending',\n",
    "           show_leaf_counts=True)\n",
    "plt.show()\n"
   ]
  },
  {
   "cell_type": "code",
   "execution_count": null,
   "metadata": {},
   "outputs": [],
   "source": [
    "k= 5\n",
    "cluster = AgglomerativeClustering(\n",
    "    n_clusters=k, affinity='euclidean', linkage='ward')\n",
    "cluster.fit_predict(X)\n"
   ]
  },
  {
   "cell_type": "code",
   "execution_count": null,
   "metadata": {},
   "outputs": [],
   "source": [
    "print(cluster.labels_)"
   ]
  },
  {
   "cell_type": "code",
   "execution_count": null,
   "metadata": {},
   "outputs": [],
   "source": [
    "plt.scatter(X[:,0],X[:,1], c=cluster.labels_, cmap='rainbow')"
   ]
  },
  {
   "cell_type": "code",
   "execution_count": null,
   "metadata": {},
   "outputs": [],
   "source": [
    "from scipy.cluster import hierarchy\n",
    "temp = hierarchy.linkage(X, 'single')\n",
    "plt.figure(figsize=(10, 7))\n",
    "\n",
    "dn = hierarchy.dendrogram(\n",
    "    temp, above_threshold_color=\"green\", color_threshold=.7)\n"
   ]
  },
  {
   "cell_type": "code",
   "execution_count": null,
   "metadata": {},
   "outputs": [],
   "source": [
    "plt.scatter(X[:,0],X[:,1], c=cluster.labels_, cmap='rainbow')"
   ]
  },
  {
   "cell_type": "code",
   "execution_count": null,
   "metadata": {},
   "outputs": [],
   "source": [
    "l = len(X)\n",
    "for i in range(l):\n",
    "    c = cluster.labels_[i]\n",
    "    if c == 3 or c == 4 or c == 5:\n",
    "        print(f'{X[i]}:    {c}')\n"
   ]
  },
  {
   "cell_type": "code",
   "execution_count": null,
   "metadata": {},
   "outputs": [],
   "source": [
    "Z = hierarchy.linkage(X, 'single')\n",
    "plt.figure(figsize=(10, 7))\n",
    "plt.title(\"Dendrograms\")\n",
    "dendrogram = hierarchy.dendrogram(Z)\n",
    "\n",
    "\n",
    "\n",
    "# Mark the cuts in the tree that signify 3, 4 and 5 clusters.\n",
    "# Cutting the dendrogram at max_d\n",
    "plt.axhline(y=2, c='k')\n"
   ]
  },
  {
   "cell_type": "code",
   "execution_count": null,
   "metadata": {},
   "outputs": [],
   "source": []
  }
 ],
 "metadata": {
  "interpreter": {
   "hash": "2de7a550c8703f0832775f874bc3af5823a8bb93047a291348bf91f81b8d769e"
  },
  "kernelspec": {
   "display_name": "Python 3.9.9 64-bit",
   "language": "python",
   "name": "python3"
  },
  "language_info": {
   "codemirror_mode": {
    "name": "ipython",
    "version": 3
   },
   "file_extension": ".py",
   "mimetype": "text/x-python",
   "name": "python",
   "nbconvert_exporter": "python",
   "pygments_lexer": "ipython3",
   "version": "3.9.9"
  },
  "orig_nbformat": 4
 },
 "nbformat": 4,
 "nbformat_minor": 2
}
