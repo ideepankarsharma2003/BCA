{
 "cells": [
  {
   "cell_type": "markdown",
   "source": [
    "# Classes And Object"
   ],
   "metadata": {}
  },
  {
   "cell_type": "code",
   "execution_count": 3,
   "source": [
    "class Info:\r\n",
    "    def inputs(a, name, age): \r\n",
    "        n1=name\r\n",
    "        a1=age\r\n",
    "        print(f'name={name} \\n age={age}')\r\n",
    "\r\n",
    "l1=Info()\r\n",
    "l1.inputs('Ram', 14) # self is passed automatically"
   ],
   "outputs": [
    {
     "output_type": "stream",
     "name": "stdout",
     "text": [
      "name=Ram \n",
      " age=14\n"
     ]
    }
   ],
   "metadata": {}
  },
  {
   "cell_type": "markdown",
   "source": [
    "## `__init__` "
   ],
   "metadata": {}
  },
  {
   "cell_type": "code",
   "execution_count": 5,
   "source": [
    "class Info:\r\n",
    "    def __init__(self):\r\n",
    "        print('Object is created and constructor is called  !!!!')\r\n",
    "    def inputs(a, name, age):\r\n",
    "        n1 = name\r\n",
    "        a1 = age\r\n",
    "        print(f'name={name} \\n age={age}')\r\n",
    "\r\n",
    "\r\n",
    "l1 = Info()\r\n",
    "l1.inputs('Ram', 14)  # self is passed automatically\r\n"
   ],
   "outputs": [
    {
     "output_type": "stream",
     "name": "stdout",
     "text": [
      "Object is created and constructor is called  !!!!\n",
      "name=Ram \n",
      " age=14\n"
     ]
    }
   ],
   "metadata": {}
  },
  {
   "cell_type": "code",
   "execution_count": 4,
   "source": [
    "class Info:\r\n",
    "    def __init__(self, name, age): # constructor \r\n",
    "        self.n1 = name  # -----> Instance Attribute\r\n",
    "        self.a1 = age # -----> Instance Attribute\r\n",
    "        print(f'name={self.n1} \\n age={self.a1}')\r\n",
    "\r\n",
    "\r\n",
    "l1 = Info('Pawan', 34)\r\n"
   ],
   "outputs": [
    {
     "output_type": "stream",
     "name": "stdout",
     "text": [
      "name=Pawan \n",
      " age=34\n"
     ]
    }
   ],
   "metadata": {}
  },
  {
   "cell_type": "markdown",
   "source": [
    "## Exception Handling"
   ],
   "metadata": {}
  },
  {
   "cell_type": "code",
   "execution_count": 3,
   "source": [
    "try:\r\n",
    "    a = int(input('Enter the value 1: '))\r\n",
    "    b = int(input('Enter the value 2: '))\r\n",
    "    c= a/b\r\n",
    "    print(f'c={c}')\r\n",
    "\r\n",
    "except:\r\n",
    "    print('Please non-zero value of \"b\" !!!')"
   ],
   "outputs": [
    {
     "output_type": "stream",
     "name": "stdout",
     "text": [
      "Please non-zero value of \"b\" !!!\n"
     ]
    }
   ],
   "metadata": {}
  },
  {
   "cell_type": "code",
   "execution_count": null,
   "source": [],
   "outputs": [],
   "metadata": {}
  }
 ],
 "metadata": {
  "orig_nbformat": 4,
  "language_info": {
   "name": "python",
   "version": "3.9.6",
   "mimetype": "text/x-python",
   "codemirror_mode": {
    "name": "ipython",
    "version": 3
   },
   "pygments_lexer": "ipython3",
   "nbconvert_exporter": "python",
   "file_extension": ".py"
  },
  "kernelspec": {
   "name": "python3",
   "display_name": "Python 3.9.6 64-bit"
  },
  "interpreter": {
   "hash": "6bea1d8ff66504a0e6b074007282c7755a91039a5750500feedce32a0acf9d3a"
  }
 },
 "nbformat": 4,
 "nbformat_minor": 2
}