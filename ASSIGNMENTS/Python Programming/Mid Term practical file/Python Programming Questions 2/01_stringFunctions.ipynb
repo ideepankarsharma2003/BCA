{
 "metadata": {
  "language_info": {
   "codemirror_mode": {
    "name": "ipython",
    "version": 3
   },
   "file_extension": ".py",
   "mimetype": "text/x-python",
   "name": "python",
   "nbconvert_exporter": "python",
   "pygments_lexer": "ipython3",
   "version": "3.9.2"
  },
  "orig_nbformat": 2,
  "kernelspec": {
   "name": "python392jvsc74a57bd02f0c04edf02add2f409fc4cf5e9af5ab3b2644f9cc08cf5d748622478ceb7e6e",
   "display_name": "Python 3.9.2 64-bit"
  },
  "metadata": {
   "interpreter": {
    "hash": "2f0c04edf02add2f409fc4cf5e9af5ab3b2644f9cc08cf5d748622478ceb7e6e"
   }
  }
 },
 "nbformat": 4,
 "nbformat_minor": 2,
 "cells": [
  {
   "cell_type": "code",
   "execution_count": 4,
   "metadata": {},
   "outputs": [
    {
     "output_type": "stream",
     "name": "stdout",
     "text": [
      "Hello   !!!   My   name   is   Deepankar   Sharma.\n"
     ]
    }
   ],
   "source": [
    "str = '''      Hello   !!!   My   name   is   Deepankar   Sharma.         '''\n",
    "str = str.strip()\n",
    "# str = str.lstrip()# strips only from left side\n",
    "# str = str.strip()# strips only from right side\n",
    "print(str)"
   ]
  },
  {
   "cell_type": "code",
   "execution_count": 1,
   "metadata": {},
   "outputs": [
    {
     "output_type": "stream",
     "name": "stdout",
     "text": [
      "Hello students\nHELLO STUDENTS\nhello students\nhelLo STUDENTS\nHello Students\n"
     ]
    }
   ],
   "source": [
    "str = 'HELlO students'\n",
    "\n",
    "\n",
    "print(str.capitalize())#  Hello students\n",
    "\n",
    "print(str.upper())# HELLO STUDENTS\n",
    "\n",
    "print(str.lower())# hello students\n",
    "\n",
    "print(str.swapcase())# helLo STUDENTS\n",
    "\n",
    "print(str.title())# Hello Students\n",
    "\n"
   ]
  },
  {
   "cell_type": "code",
   "execution_count": 2,
   "metadata": {},
   "outputs": [
    {
     "output_type": "stream",
     "name": "stdout",
     "text": [
      "['HELlO', 'students']\n<class 'list'>\n"
     ]
    }
   ],
   "source": [
    "# split() ------> converts elements  of list in form of a  list \n",
    "a = str.split()\n",
    "print(a)# ['HELlO', 'students']\n",
    "print(type(a)) # <class 'list'>\n",
    "\n"
   ]
  },
  {
   "cell_type": "code",
   "execution_count": 3,
   "metadata": {},
   "outputs": [
    {
     "output_type": "stream",
     "name": "stdout",
     "text": [
      "HELlO+students\n<class 'str'>\nHELlO students\n<class 'str'>\n"
     ]
    }
   ],
   "source": [
    "# join() --------> converts the elements of a list into string , joining them with the first argument\n",
    "val = '+'.join(a)# joins with '+'\n",
    "print(val)\n",
    "print(type(val))\n",
    "val = ' '.join(a)# joins with ' '\n",
    "print(val)\n",
    "print(type(val))"
   ]
  },
  {
   "cell_type": "code",
   "execution_count": 5,
   "metadata": {},
   "outputs": [
    {
     "output_type": "stream",
     "name": "stdout",
     "text": [
      "True\nFalse\n"
     ]
    }
   ],
   "source": [
    "# isspace() ------> returns True if there's a whitespace\n",
    "a = '    '\n",
    "print(a.isspace())\n",
    "b ='   s'\n",
    "print(b.isspace())\n"
   ]
  },
  {
   "cell_type": "code",
   "execution_count": 11,
   "metadata": {},
   "outputs": [
    {
     "output_type": "stream",
     "name": "stdout",
     "text": [
      "True\nFalse\nFalse\nTrue\n"
     ]
    }
   ],
   "source": [
    "# in -----> returns if a string present in string\n",
    "str = 'My name is Deepankar Sharma'\n",
    "print('Deepankar'in str)\n",
    "print('lallu 'in str)\n",
    "print('Deepankar' not in str)\n",
    "print('lallu ' not in str)"
   ]
  },
  {
   "cell_type": "code",
   "execution_count": null,
   "metadata": {},
   "outputs": [],
   "source": []
  }
 ]
}