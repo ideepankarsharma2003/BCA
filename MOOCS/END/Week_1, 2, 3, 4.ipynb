{
  "cells": [
    {
      "cell_type": "markdown",
      "metadata": {
        "id": "ebONupp5wi1g"
      },
      "source": [
        "# **WEEK 1, 2, 3, 4**"
      ]
    },
    {
      "cell_type": "code",
      "execution_count": 1,
      "metadata": {
        "colab": {
          "base_uri": "https://localhost:8080/"
        },
        "id": "cCldDM8NwbO-",
        "outputId": "c0941469-d6b6-4c14-c2f3-1447923fd772"
      },
      "outputs": [
        {
          "name": "stdout",
          "output_type": "stream",
          "text": [
            "Using torch 1.13.1+cu117\n"
          ]
        }
      ],
      "source": [
        "import torch\n",
        "print(\"Using torch\", torch.__version__)"
      ]
    },
    {
      "cell_type": "code",
      "execution_count": 2,
      "metadata": {
        "colab": {
          "base_uri": "https://localhost:8080/"
        },
        "id": "tbj0XcKfxkpy",
        "outputId": "2350f69e-af53-4754-9dac-165406b1fefd"
      },
      "outputs": [
        {
          "name": "stdout",
          "output_type": "stream",
          "text": [
            "torch.int64\n",
            "torch.LongTensor\n"
          ]
        }
      ],
      "source": [
        "a= torch.tensor([1, 2, 4, 5, 7, 8])\n",
        "print(a.dtype)\n",
        "print(a.type())"
      ]
    },
    {
      "cell_type": "code",
      "execution_count": 3,
      "metadata": {
        "colab": {
          "base_uri": "https://localhost:8080/"
        },
        "id": "j2WkgLuJ1DVi",
        "outputId": "2bc2d169-fd69-427f-ca3c-511ae3660b3e"
      },
      "outputs": [
        {
          "name": "stdout",
          "output_type": "stream",
          "text": [
            "torch.float32\n",
            "torch.FloatTensor\n"
          ]
        }
      ],
      "source": [
        "a= torch.tensor([1.0, 2.0, 4.0, 5.0, 7.0, 8.0])\n",
        "print(a.dtype)\n",
        "print(a.type())"
      ]
    },
    {
      "cell_type": "code",
      "execution_count": 4,
      "metadata": {
        "colab": {
          "base_uri": "https://localhost:8080/"
        },
        "id": "-zv3OI5J1i6G",
        "outputId": "d980f70c-dd9c-4860-95bc-556f0c5ff74d"
      },
      "outputs": [
        {
          "name": "stdout",
          "output_type": "stream",
          "text": [
            "torch.int32\n",
            "torch.IntTensor\n",
            "tensor([1, 2, 4, 5, 7, 8], dtype=torch.int32)\n"
          ]
        },
        {
          "name": "stderr",
          "output_type": "stream",
          "text": [
            "C:\\Users\\deepa\\AppData\\Local\\Temp\\ipykernel_22164\\1309466264.py:1: DeprecationWarning: an integer is required (got type float).  Implicit conversion to integers using __int__ is deprecated, and may be removed in a future version of Python.\n",
            "  a= torch.tensor([1.0, 2.0, 4.0, 5.0, 7.0, 8.0], dtype= torch.int32)\n"
          ]
        }
      ],
      "source": [
        "a= torch.tensor([1.0, 2.0, 4.0, 5.0, 7.0, 8.0], dtype= torch.int32)\n",
        "print(a.dtype)\n",
        "print(a.type())\n",
        "print(a)"
      ]
    },
    {
      "cell_type": "code",
      "execution_count": 5,
      "metadata": {
        "colab": {
          "base_uri": "https://localhost:8080/"
        },
        "id": "XPlKQMJM1rMQ",
        "outputId": "90fa485d-36bf-4ec1-b1d8-8090a742e6c6"
      },
      "outputs": [
        {
          "name": "stdout",
          "output_type": "stream",
          "text": [
            "torch.float32\n",
            "torch.FloatTensor\n"
          ]
        }
      ],
      "source": [
        "a= torch.FloatTensor([1, 2, 4, 5, 7, 8])\n",
        "print(a.dtype)\n",
        "print(a.type())"
      ]
    },
    {
      "cell_type": "code",
      "execution_count": 6,
      "metadata": {
        "colab": {
          "base_uri": "https://localhost:8080/"
        },
        "id": "PGi6zf8B2N9P",
        "outputId": "b685545b-170f-4238-d44d-6fa55e1ba5b9"
      },
      "outputs": [
        {
          "name": "stdout",
          "output_type": "stream",
          "text": [
            "Numpy array: [[1 2]\n",
            " [3 4]]\n",
            "PyTorch tensor: tensor([[1, 2],\n",
            "        [3, 4]], dtype=torch.int32)\n"
          ]
        }
      ],
      "source": [
        "import numpy as np\n",
        "import torch\n",
        "\n",
        "np_arr = np.array([[1, 2], [3, 4]])\n",
        "tensor = torch.from_numpy(np_arr)\n",
        "\n",
        "print(\"Numpy array:\", np_arr)\n",
        "print(\"PyTorch tensor:\", tensor)"
      ]
    },
    {
      "cell_type": "code",
      "execution_count": 7,
      "metadata": {
        "id": "FbnffA9DZSK0"
      },
      "outputs": [],
      "source": [
        "class LinearRegressionModel(torch.nn.Module):\n",
        "\n",
        "\tdef __init__(self):\n",
        "\t\tsuper(LinearRegressionModel, self).__init__()\n",
        "\t\tself.linear = torch.nn.Linear(1, 1) # One in and one out\n",
        "\n",
        "\tdef forward(self, x):\n",
        "\t\ty_pred = self.linear(x)\n",
        "\t\treturn y_pred\n"
      ]
    },
    {
      "cell_type": "code",
      "execution_count": 8,
      "metadata": {
        "id": "rGyVgPu_V_iz"
      },
      "outputs": [],
      "source": [
        "import torch\n",
        "from torch.autograd import Variable\n",
        "x_data = Variable(torch.Tensor([[1.0], [2.0], [3.0]]))\n",
        "y_data = Variable(torch.Tensor([[2.0], [4.0], [6.0]]))"
      ]
    },
    {
      "cell_type": "code",
      "execution_count": 9,
      "metadata": {
        "id": "G0VVfGusZZh2"
      },
      "outputs": [],
      "source": [
        "class LinearRegressionModel(torch.nn.Module):\n",
        "\n",
        "\tdef __init__(self):\n",
        "\t\tsuper(LinearRegressionModel, self).__init__()\n",
        "\t\tself.linear = torch.nn.Linear(1, 1) # One in and one out\n",
        "\n",
        "\tdef forward(self, x):\n",
        "\t\ty_pred = self.linear(x)\n",
        "\t\treturn y_pred"
      ]
    },
    {
      "cell_type": "code",
      "execution_count": 10,
      "metadata": {
        "id": "kVPXc62_Zbce"
      },
      "outputs": [
        {
          "name": "stderr",
          "output_type": "stream",
          "text": [
            "c:\\Users\\deepa\\AppData\\Local\\Programs\\Python\\Python39\\lib\\site-packages\\torch\\nn\\_reduction.py:42: UserWarning: size_average and reduce args will be deprecated, please use reduction='sum' instead.\n",
            "  warnings.warn(warning.format(ret))\n"
          ]
        }
      ],
      "source": [
        "model= LinearRegressionModel()\n",
        "criterion = torch.nn.MSELoss(size_average = False)\n",
        "optimizer = torch.optim.SGD(model.parameters(), lr = 0.01)\n"
      ]
    },
    {
      "cell_type": "code",
      "execution_count": 11,
      "metadata": {
        "colab": {
          "base_uri": "https://localhost:8080/"
        },
        "id": "eOcPvru6Zvpl",
        "outputId": "7af804ed-23ab-409d-a3e2-b5e0c8e2b32b"
      },
      "outputs": [
        {
          "name": "stdout",
          "output_type": "stream",
          "text": [
            "epoch 0, loss 36.46397018432617\n",
            "epoch 1, loss 16.270137786865234\n",
            "epoch 2, loss 7.279878616333008\n",
            "epoch 3, loss 3.2771430015563965\n",
            "epoch 4, loss 1.4947155714035034\n",
            "epoch 5, loss 0.7007136344909668\n",
            "epoch 6, loss 0.3467392921447754\n",
            "epoch 7, loss 0.18866035342216492\n",
            "epoch 8, loss 0.11779484897851944\n",
            "epoch 9, loss 0.08576150238513947\n",
            "epoch 10, loss 0.0710224136710167\n",
            "epoch 11, loss 0.06398893147706985\n",
            "epoch 12, loss 0.060392674058675766\n",
            "epoch 13, loss 0.05833315849304199\n",
            "epoch 14, loss 0.056964270770549774\n",
            "epoch 15, loss 0.05590951815247536\n",
            "epoch 16, loss 0.055000875145196915\n",
            "epoch 17, loss 0.05416354537010193\n",
            "epoch 18, loss 0.05336438864469528\n",
            "epoch 19, loss 0.05258810520172119\n",
            "epoch 20, loss 0.05182824283838272\n",
            "epoch 21, loss 0.05108163133263588\n",
            "epoch 22, loss 0.05034665763378143\n",
            "epoch 23, loss 0.04962257295846939\n",
            "epoch 24, loss 0.048909373581409454\n",
            "epoch 25, loss 0.04820649325847626\n",
            "epoch 26, loss 0.04751357063651085\n",
            "epoch 27, loss 0.04683076590299606\n",
            "epoch 28, loss 0.04615764319896698\n",
            "epoch 29, loss 0.04549434036016464\n",
            "epoch 30, loss 0.04484057426452637\n",
            "epoch 31, loss 0.04419606551527977\n",
            "epoch 32, loss 0.043560899794101715\n",
            "epoch 33, loss 0.042934924364089966\n",
            "epoch 34, loss 0.04231780767440796\n",
            "epoch 35, loss 0.041709549725055695\n",
            "epoch 36, loss 0.04111023247241974\n",
            "epoch 37, loss 0.040519408881664276\n",
            "epoch 38, loss 0.03993712738156319\n",
            "epoch 39, loss 0.039363060146570206\n",
            "epoch 40, loss 0.03879735618829727\n",
            "epoch 41, loss 0.03823983296751976\n",
            "epoch 42, loss 0.037690263241529465\n",
            "epoch 43, loss 0.0371486060321331\n",
            "epoch 44, loss 0.03661473095417023\n",
            "epoch 45, loss 0.03608851879835129\n",
            "epoch 46, loss 0.03556988388299942\n",
            "epoch 47, loss 0.03505859524011612\n",
            "epoch 48, loss 0.0345548540353775\n",
            "epoch 49, loss 0.03405822440981865\n",
            "epoch 50, loss 0.03356865048408508\n",
            "epoch 51, loss 0.03308621793985367\n",
            "epoch 52, loss 0.03261081129312515\n",
            "epoch 53, loss 0.03214208409190178\n",
            "epoch 54, loss 0.03168012946844101\n",
            "epoch 55, loss 0.031224993988871574\n",
            "epoch 56, loss 0.030776219442486763\n",
            "epoch 57, loss 0.030333880335092545\n",
            "epoch 58, loss 0.029897958040237427\n",
            "epoch 59, loss 0.029468301683664322\n",
            "epoch 60, loss 0.029044760391116142\n",
            "epoch 61, loss 0.028627268970012665\n",
            "epoch 62, loss 0.02821585349738598\n",
            "epoch 63, loss 0.02781035751104355\n",
            "epoch 64, loss 0.027410704642534256\n",
            "epoch 65, loss 0.02701679803431034\n",
            "epoch 66, loss 0.02662847563624382\n",
            "epoch 67, loss 0.026245784014463425\n",
            "epoch 68, loss 0.02586858719587326\n",
            "epoch 69, loss 0.02549685165286064\n",
            "epoch 70, loss 0.025130517780780792\n",
            "epoch 71, loss 0.024769291281700134\n",
            "epoch 72, loss 0.024413378909230232\n",
            "epoch 73, loss 0.02406245842576027\n",
            "epoch 74, loss 0.023716634139418602\n",
            "epoch 75, loss 0.023375771939754486\n",
            "epoch 76, loss 0.023039892315864563\n",
            "epoch 77, loss 0.022708691656589508\n",
            "epoch 78, loss 0.022382408380508423\n",
            "epoch 79, loss 0.022060692310333252\n",
            "epoch 80, loss 0.021743644028902054\n",
            "epoch 81, loss 0.021431153640151024\n",
            "epoch 82, loss 0.021123195067048073\n",
            "epoch 83, loss 0.020819570869207382\n",
            "epoch 84, loss 0.02052035555243492\n",
            "epoch 85, loss 0.020225457847118378\n",
            "epoch 86, loss 0.019934818148612976\n",
            "epoch 87, loss 0.019648324698209763\n",
            "epoch 88, loss 0.019365955144166946\n",
            "epoch 89, loss 0.019087551161646843\n",
            "epoch 90, loss 0.01881331205368042\n",
            "epoch 91, loss 0.018542855978012085\n",
            "epoch 92, loss 0.018276479095220566\n",
            "epoch 93, loss 0.01801370270550251\n",
            "epoch 94, loss 0.01775493659079075\n",
            "epoch 95, loss 0.017499668523669243\n",
            "epoch 96, loss 0.017248166725039482\n",
            "epoch 97, loss 0.017000291496515274\n",
            "epoch 98, loss 0.01675599068403244\n",
            "epoch 99, loss 0.01651516743004322\n",
            "epoch 100, loss 0.01627783663570881\n",
            "epoch 101, loss 0.016043884679675102\n",
            "epoch 102, loss 0.01581338420510292\n",
            "epoch 103, loss 0.015586094930768013\n",
            "epoch 104, loss 0.015362078323960304\n",
            "epoch 105, loss 0.015141269192099571\n",
            "epoch 106, loss 0.014923688024282455\n",
            "epoch 107, loss 0.01470922864973545\n",
            "epoch 108, loss 0.014497838914394379\n",
            "epoch 109, loss 0.014289479702711105\n",
            "epoch 110, loss 0.014084022492170334\n",
            "epoch 111, loss 0.013881642371416092\n",
            "epoch 112, loss 0.013682175427675247\n",
            "epoch 113, loss 0.013485508039593697\n",
            "epoch 114, loss 0.013291713781654835\n",
            "epoch 115, loss 0.013100717216730118\n",
            "epoch 116, loss 0.012912388890981674\n",
            "epoch 117, loss 0.012726858258247375\n",
            "epoch 118, loss 0.012543969787657261\n",
            "epoch 119, loss 0.012363694608211517\n",
            "epoch 120, loss 0.012186011299490929\n",
            "epoch 121, loss 0.012010852806270123\n",
            "epoch 122, loss 0.011838221922516823\n",
            "epoch 123, loss 0.01166815310716629\n",
            "epoch 124, loss 0.01150040328502655\n",
            "epoch 125, loss 0.011335089802742004\n",
            "epoch 126, loss 0.011172241531312466\n",
            "epoch 127, loss 0.011011699214577675\n",
            "epoch 128, loss 0.01085339579731226\n",
            "epoch 129, loss 0.010697438381612301\n",
            "epoch 130, loss 0.010543693788349628\n",
            "epoch 131, loss 0.010392149910330772\n",
            "epoch 132, loss 0.010242830961942673\n",
            "epoch 133, loss 0.010095585137605667\n",
            "epoch 134, loss 0.009950468316674232\n",
            "epoch 135, loss 0.009807459078729153\n",
            "epoch 136, loss 0.009666496887803078\n",
            "epoch 137, loss 0.009527653455734253\n",
            "epoch 138, loss 0.009390712715685368\n",
            "epoch 139, loss 0.009255688637495041\n",
            "epoch 140, loss 0.00912269577383995\n",
            "epoch 141, loss 0.008991587907075882\n",
            "epoch 142, loss 0.00886237621307373\n",
            "epoch 143, loss 0.008735036477446556\n",
            "epoch 144, loss 0.008609466254711151\n",
            "epoch 145, loss 0.008485784754157066\n",
            "epoch 146, loss 0.008363799192011356\n",
            "epoch 147, loss 0.008243643678724766\n",
            "epoch 148, loss 0.00812512543052435\n",
            "epoch 149, loss 0.008008345030248165\n",
            "epoch 150, loss 0.007893280126154423\n",
            "epoch 151, loss 0.00777982734143734\n",
            "epoch 152, loss 0.007668066304177046\n",
            "epoch 153, loss 0.0075578344985842705\n",
            "epoch 154, loss 0.00744924321770668\n",
            "epoch 155, loss 0.007342131342738867\n",
            "epoch 156, loss 0.007236630190163851\n",
            "epoch 157, loss 0.007132604718208313\n",
            "epoch 158, loss 0.007030119653791189\n",
            "epoch 159, loss 0.006929102353751659\n",
            "epoch 160, loss 0.006829520687460899\n",
            "epoch 161, loss 0.006731403060257435\n",
            "epoch 162, loss 0.006634644698351622\n",
            "epoch 163, loss 0.006539305672049522\n",
            "epoch 164, loss 0.0064453249797225\n",
            "epoch 165, loss 0.006352681666612625\n",
            "epoch 166, loss 0.006261344533413649\n",
            "epoch 167, loss 0.006171392276883125\n",
            "epoch 168, loss 0.006082719191908836\n",
            "epoch 169, loss 0.005995266139507294\n",
            "epoch 170, loss 0.005909121595323086\n",
            "epoch 171, loss 0.005824210122227669\n",
            "epoch 172, loss 0.005740521941334009\n",
            "epoch 173, loss 0.005657978821545839\n",
            "epoch 174, loss 0.005576645955443382\n",
            "epoch 175, loss 0.005496528930962086\n",
            "epoch 176, loss 0.005417519714683294\n",
            "epoch 177, loss 0.005339645780622959\n",
            "epoch 178, loss 0.005262942984700203\n",
            "epoch 179, loss 0.005187285598367453\n",
            "epoch 180, loss 0.005112732760608196\n",
            "epoch 181, loss 0.005039239302277565\n",
            "epoch 182, loss 0.004966835491359234\n",
            "epoch 183, loss 0.00489548034965992\n",
            "epoch 184, loss 0.004825112409889698\n",
            "epoch 185, loss 0.004755770321935415\n",
            "epoch 186, loss 0.00468741450458765\n",
            "epoch 187, loss 0.004620043095201254\n",
            "epoch 188, loss 0.0045536598190665245\n",
            "epoch 189, loss 0.00448820274323225\n",
            "epoch 190, loss 0.004423699341714382\n",
            "epoch 191, loss 0.004360119812190533\n",
            "epoch 192, loss 0.004297459498047829\n",
            "epoch 193, loss 0.004235687665641308\n",
            "epoch 194, loss 0.004174797795712948\n",
            "epoch 195, loss 0.004114808514714241\n",
            "epoch 196, loss 0.004055696539580822\n",
            "epoch 197, loss 0.003997401334345341\n",
            "epoch 198, loss 0.003939939197152853\n",
            "epoch 199, loss 0.0038833217695355415\n",
            "epoch 200, loss 0.0038275320548564196\n",
            "epoch 201, loss 0.003772500902414322\n",
            "epoch 202, loss 0.0037183118984103203\n",
            "epoch 203, loss 0.0036648577079176903\n",
            "epoch 204, loss 0.00361217325553298\n",
            "epoch 205, loss 0.003560279728844762\n",
            "epoch 206, loss 0.0035091042518615723\n",
            "epoch 207, loss 0.00345867732539773\n",
            "epoch 208, loss 0.0034089628607034683\n",
            "epoch 209, loss 0.003359962720423937\n",
            "epoch 210, loss 0.003311693435534835\n",
            "epoch 211, loss 0.0032640905119478703\n",
            "epoch 212, loss 0.0032171588391065598\n",
            "epoch 213, loss 0.003170932177454233\n",
            "epoch 214, loss 0.0031253520864993334\n",
            "epoch 215, loss 0.00308044720441103\n",
            "epoch 216, loss 0.0030361844692379236\n",
            "epoch 217, loss 0.0029925459530204535\n",
            "epoch 218, loss 0.002949518384411931\n",
            "epoch 219, loss 0.002907142508774996\n",
            "epoch 220, loss 0.0028653363697230816\n",
            "epoch 221, loss 0.002824200550094247\n",
            "epoch 222, loss 0.0027836060617119074\n",
            "epoch 223, loss 0.0027435962110757828\n",
            "epoch 224, loss 0.0027041833382099867\n",
            "epoch 225, loss 0.0026653027161955833\n",
            "epoch 226, loss 0.002627016743645072\n",
            "epoch 227, loss 0.002589241601526737\n",
            "epoch 228, loss 0.002552029211074114\n",
            "epoch 229, loss 0.0025153676979243755\n",
            "epoch 230, loss 0.0024792044423520565\n",
            "epoch 231, loss 0.0024435818195343018\n",
            "epoch 232, loss 0.002408450935035944\n",
            "epoch 233, loss 0.002373842289671302\n",
            "epoch 234, loss 0.0023397200275212526\n",
            "epoch 235, loss 0.0023061102256178856\n",
            "epoch 236, loss 0.0022729835473001003\n",
            "epoch 237, loss 0.0022403053008019924\n",
            "epoch 238, loss 0.0022081045899540186\n",
            "epoch 239, loss 0.002176380716264248\n",
            "epoch 240, loss 0.0021450938656926155\n",
            "epoch 241, loss 0.0021142447367310524\n",
            "epoch 242, loss 0.0020838698837906122\n",
            "epoch 243, loss 0.00205392949283123\n",
            "epoch 244, loss 0.0020244282204657793\n",
            "epoch 245, loss 0.001995319500565529\n",
            "epoch 246, loss 0.001966639654710889\n",
            "epoch 247, loss 0.0019383643520995975\n",
            "epoch 248, loss 0.0019105173414573073\n",
            "epoch 249, loss 0.0018830535700544715\n",
            "epoch 250, loss 0.001855980372056365\n",
            "epoch 251, loss 0.0018293418688699603\n",
            "epoch 252, loss 0.0018030465580523014\n",
            "epoch 253, loss 0.0017771277343854308\n",
            "epoch 254, loss 0.0017516035586595535\n",
            "epoch 255, loss 0.0017263980116695166\n",
            "epoch 256, loss 0.0017015935154631734\n",
            "epoch 257, loss 0.0016771280206739902\n",
            "epoch 258, loss 0.0016530416905879974\n",
            "epoch 259, loss 0.001629288075491786\n",
            "epoch 260, loss 0.0016058728797361255\n",
            "epoch 261, loss 0.0015827810857445002\n",
            "epoch 262, loss 0.001560039003379643\n",
            "epoch 263, loss 0.0015376177616417408\n",
            "epoch 264, loss 0.0015155047876760364\n",
            "epoch 265, loss 0.0014937317464500666\n",
            "epoch 266, loss 0.0014722645282745361\n",
            "epoch 267, loss 0.0014511101180687547\n",
            "epoch 268, loss 0.0014302636263892055\n",
            "epoch 269, loss 0.0014096980448812246\n",
            "epoch 270, loss 0.001389435026794672\n",
            "epoch 271, loss 0.0013694802764803171\n",
            "epoch 272, loss 0.0013497842010110617\n",
            "epoch 273, loss 0.001330394996330142\n",
            "epoch 274, loss 0.001311279833316803\n",
            "epoch 275, loss 0.0012924199691042304\n",
            "epoch 276, loss 0.0012738420628011227\n",
            "epoch 277, loss 0.0012555387802422047\n",
            "epoch 278, loss 0.0012374864891171455\n",
            "epoch 279, loss 0.0012197121977806091\n",
            "epoch 280, loss 0.0012021843576803803\n",
            "epoch 281, loss 0.0011849155416712165\n",
            "epoch 282, loss 0.001167889917269349\n",
            "epoch 283, loss 0.0011510909534990788\n",
            "epoch 284, loss 0.0011345518287271261\n",
            "epoch 285, loss 0.0011182635789737105\n",
            "epoch 286, loss 0.001102192560210824\n",
            "epoch 287, loss 0.0010863470379263163\n",
            "epoch 288, loss 0.0010707257315516472\n",
            "epoch 289, loss 0.0010553337633609772\n",
            "epoch 290, loss 0.0010401731124147773\n",
            "epoch 291, loss 0.0010252265492454171\n",
            "epoch 292, loss 0.0010105016408488154\n",
            "epoch 293, loss 0.0009959714952856302\n",
            "epoch 294, loss 0.0009816493839025497\n",
            "epoch 295, loss 0.0009675639448687434\n",
            "epoch 296, loss 0.000953646725974977\n",
            "epoch 297, loss 0.0009399373666383326\n",
            "epoch 298, loss 0.0009264254476875067\n",
            "epoch 299, loss 0.0009131096885539591\n",
            "epoch 300, loss 0.0008999863057397306\n",
            "epoch 301, loss 0.0008870427263900638\n",
            "epoch 302, loss 0.0008743038633838296\n",
            "epoch 303, loss 0.0008617416024208069\n",
            "epoch 304, loss 0.0008493540808558464\n",
            "epoch 305, loss 0.000837158877402544\n",
            "epoch 306, loss 0.0008251211838796735\n",
            "epoch 307, loss 0.0008132660295814276\n",
            "epoch 308, loss 0.0008015854982659221\n",
            "epoch 309, loss 0.0007900606142356992\n",
            "epoch 310, loss 0.00077870674431324\n",
            "epoch 311, loss 0.0007675124797970057\n",
            "epoch 312, loss 0.0007564855623058975\n",
            "epoch 313, loss 0.000745612196624279\n",
            "epoch 314, loss 0.0007348901126533747\n",
            "epoch 315, loss 0.0007243277505040169\n",
            "epoch 316, loss 0.0007139234803617001\n",
            "epoch 317, loss 0.0007036577444523573\n",
            "epoch 318, loss 0.0006935398560017347\n",
            "epoch 319, loss 0.0006835817475803196\n",
            "epoch 320, loss 0.0006737485527992249\n",
            "epoch 321, loss 0.0006640772335231304\n",
            "epoch 322, loss 0.0006545227952301502\n",
            "epoch 323, loss 0.0006451267981901765\n",
            "epoch 324, loss 0.0006358545506373048\n",
            "epoch 325, loss 0.0006267257849685848\n",
            "epoch 326, loss 0.0006177150644361973\n",
            "epoch 327, loss 0.0006088377558626235\n",
            "epoch 328, loss 0.0006000922876410186\n",
            "epoch 329, loss 0.0005914525827392936\n",
            "epoch 330, loss 0.0005829505971632898\n",
            "epoch 331, loss 0.0005745853995904326\n",
            "epoch 332, loss 0.0005663111805915833\n",
            "epoch 333, loss 0.0005581793375313282\n",
            "epoch 334, loss 0.0005501710693351924\n",
            "epoch 335, loss 0.0005422545364126563\n",
            "epoch 336, loss 0.0005344625096768141\n",
            "epoch 337, loss 0.0005267803790047765\n",
            "epoch 338, loss 0.0005192034877836704\n",
            "epoch 339, loss 0.0005117518594488502\n",
            "epoch 340, loss 0.0005043926066718996\n",
            "epoch 341, loss 0.0004971417365595698\n",
            "epoch 342, loss 0.0004899980849586427\n",
            "epoch 343, loss 0.00048296042950823903\n",
            "epoch 344, loss 0.00047601363621652126\n",
            "epoch 345, loss 0.00046917638974264264\n",
            "epoch 346, loss 0.0004624348075594753\n",
            "epoch 347, loss 0.00045579110155813396\n",
            "epoch 348, loss 0.0004492336593102664\n",
            "epoch 349, loss 0.0004427818057592958\n",
            "epoch 350, loss 0.00043641007505357265\n",
            "epoch 351, loss 0.0004301436129026115\n",
            "epoch 352, loss 0.0004239631234668195\n",
            "epoch 353, loss 0.00041786779183894396\n",
            "epoch 354, loss 0.0004118650103919208\n",
            "epoch 355, loss 0.00040594779420644045\n",
            "epoch 356, loss 0.00040010653901845217\n",
            "epoch 357, loss 0.0003943555639125407\n",
            "epoch 358, loss 0.0003886920167133212\n",
            "epoch 359, loss 0.0003831104259006679\n",
            "epoch 360, loss 0.0003775969089474529\n",
            "epoch 361, loss 0.00037217047065496445\n",
            "epoch 362, loss 0.00036681946949101985\n",
            "epoch 363, loss 0.00036154480767436326\n",
            "epoch 364, loss 0.00035636156098917127\n",
            "epoch 365, loss 0.00035123591078445315\n",
            "epoch 366, loss 0.0003461852902546525\n",
            "epoch 367, loss 0.0003412184596527368\n",
            "epoch 368, loss 0.00033630995312705636\n",
            "epoch 369, loss 0.0003314698114991188\n",
            "epoch 370, loss 0.00032671360531821847\n",
            "epoch 371, loss 0.0003220142098143697\n",
            "epoch 372, loss 0.0003173923760186881\n",
            "epoch 373, loss 0.00031282863346859813\n",
            "epoch 374, loss 0.00030833110213279724\n",
            "epoch 375, loss 0.0003039021394215524\n",
            "epoch 376, loss 0.00029953435296192765\n",
            "epoch 377, loss 0.0002952322247438133\n",
            "epoch 378, loss 0.0002909854520112276\n",
            "epoch 379, loss 0.0002867990406230092\n",
            "epoch 380, loss 0.0002826776180882007\n",
            "epoch 381, loss 0.0002786146942526102\n",
            "epoch 382, loss 0.00027460907585918903\n",
            "epoch 383, loss 0.00027065977337770164\n",
            "epoch 384, loss 0.00026678224094212055\n",
            "epoch 385, loss 0.0002629416703712195\n",
            "epoch 386, loss 0.000259164982708171\n",
            "epoch 387, loss 0.0002554369857534766\n",
            "epoch 388, loss 0.0002517696702852845\n",
            "epoch 389, loss 0.0002481421397533268\n",
            "epoch 390, loss 0.0002445859427098185\n",
            "epoch 391, loss 0.00024106445198412985\n",
            "epoch 392, loss 0.00023760300246067345\n",
            "epoch 393, loss 0.00023418971977662295\n",
            "epoch 394, loss 0.0002308192488271743\n",
            "epoch 395, loss 0.00022750826610717922\n",
            "epoch 396, loss 0.00022423254267778248\n",
            "epoch 397, loss 0.0002210151287727058\n",
            "epoch 398, loss 0.00021783214469905943\n",
            "epoch 399, loss 0.00021470460342243314\n",
            "epoch 400, loss 0.0002116144896717742\n",
            "epoch 401, loss 0.0002085753221763298\n",
            "epoch 402, loss 0.0002055806398857385\n",
            "epoch 403, loss 0.00020261964527890086\n",
            "epoch 404, loss 0.0001997154176933691\n",
            "epoch 405, loss 0.0001968362630577758\n",
            "epoch 406, loss 0.00019401119789108634\n",
            "epoch 407, loss 0.000191228260518983\n",
            "epoch 408, loss 0.000188477395568043\n",
            "epoch 409, loss 0.00018576631555333734\n",
            "epoch 410, loss 0.0001830976689234376\n",
            "epoch 411, loss 0.00018046042532660067\n",
            "epoch 412, loss 0.00017786944226827472\n",
            "epoch 413, loss 0.00017532108176965266\n",
            "epoch 414, loss 0.0001727956987451762\n",
            "epoch 415, loss 0.00017031254537869245\n",
            "epoch 416, loss 0.00016786318155936897\n",
            "epoch 417, loss 0.00016545510152354836\n",
            "epoch 418, loss 0.00016306887846440077\n",
            "epoch 419, loss 0.00016073057486210018\n",
            "epoch 420, loss 0.00015841610729694366\n",
            "epoch 421, loss 0.0001561413228046149\n",
            "epoch 422, loss 0.0001538945216452703\n",
            "epoch 423, loss 0.00015168226673267782\n",
            "epoch 424, loss 0.00014950736658647656\n",
            "epoch 425, loss 0.00014735909644514322\n",
            "epoch 426, loss 0.00014523758727591485\n",
            "epoch 427, loss 0.0001431498967576772\n",
            "epoch 428, loss 0.00014109631592873484\n",
            "epoch 429, loss 0.00013906579988542944\n",
            "epoch 430, loss 0.0001370717800455168\n",
            "epoch 431, loss 0.00013509520795196295\n",
            "epoch 432, loss 0.00013315312389750034\n",
            "epoch 433, loss 0.00013124507677275687\n",
            "epoch 434, loss 0.00012935773702338338\n",
            "epoch 435, loss 0.0001275011309189722\n",
            "epoch 436, loss 0.0001256635005120188\n",
            "epoch 437, loss 0.00012386281741783023\n",
            "epoch 438, loss 0.00012207514373585582\n",
            "epoch 439, loss 0.00012032149970764294\n",
            "epoch 440, loss 0.0001185973160318099\n",
            "epoch 441, loss 0.00011689061648212373\n",
            "epoch 442, loss 0.0001152128170360811\n",
            "epoch 443, loss 0.00011355614697095007\n",
            "epoch 444, loss 0.00011191976955160499\n",
            "epoch 445, loss 0.00011031358735635877\n",
            "epoch 446, loss 0.00010872568236663938\n",
            "epoch 447, loss 0.00010716794349718839\n",
            "epoch 448, loss 0.00010562413808656856\n",
            "epoch 449, loss 0.00010410962568130344\n",
            "epoch 450, loss 0.00010261488932883367\n",
            "epoch 451, loss 0.00010114090400747955\n",
            "epoch 452, loss 9.968657104764134e-05\n",
            "epoch 453, loss 9.825199958868325e-05\n",
            "epoch 454, loss 9.684469841886312e-05\n",
            "epoch 455, loss 9.544727799948305e-05\n",
            "epoch 456, loss 9.407494508195668e-05\n",
            "epoch 457, loss 9.272039460483938e-05\n",
            "epoch 458, loss 9.138594032265246e-05\n",
            "epoch 459, loss 9.008048800751567e-05\n",
            "epoch 460, loss 8.878632797859609e-05\n",
            "epoch 461, loss 8.750861161388457e-05\n",
            "epoch 462, loss 8.625176269561052e-05\n",
            "epoch 463, loss 8.501311822328717e-05\n",
            "epoch 464, loss 8.378982602152973e-05\n",
            "epoch 465, loss 8.258121670223773e-05\n",
            "epoch 466, loss 8.139684359775856e-05\n",
            "epoch 467, loss 8.022910333238542e-05\n",
            "epoch 468, loss 7.907368853921071e-05\n",
            "epoch 469, loss 7.793767872499302e-05\n",
            "epoch 470, loss 7.681779243284836e-05\n",
            "epoch 471, loss 7.571789319626987e-05\n",
            "epoch 472, loss 7.462494249921292e-05\n",
            "epoch 473, loss 7.355363050010055e-05\n",
            "epoch 474, loss 7.249378541018814e-05\n",
            "epoch 475, loss 7.145636482164264e-05\n",
            "epoch 476, loss 7.042350625852123e-05\n",
            "epoch 477, loss 6.941729225218296e-05\n",
            "epoch 478, loss 6.841807771706954e-05\n",
            "epoch 479, loss 6.743567064404488e-05\n",
            "epoch 480, loss 6.646699330303818e-05\n",
            "epoch 481, loss 6.551003025379032e-05\n",
            "epoch 482, loss 6.457098061218858e-05\n",
            "epoch 483, loss 6.364358705468476e-05\n",
            "epoch 484, loss 6.272544123930857e-05\n",
            "epoch 485, loss 6.182333163451403e-05\n",
            "epoch 486, loss 6.0936603404115885e-05\n",
            "epoch 487, loss 6.0064612625865266e-05\n",
            "epoch 488, loss 5.919712930335663e-05\n",
            "epoch 489, loss 5.834927287651226e-05\n",
            "epoch 490, loss 5.751282151322812e-05\n",
            "epoch 491, loss 5.667848017765209e-05\n",
            "epoch 492, loss 5.586739280261099e-05\n",
            "epoch 493, loss 5.5063235777197406e-05\n",
            "epoch 494, loss 5.427110954769887e-05\n",
            "epoch 495, loss 5.349131242837757e-05\n",
            "epoch 496, loss 5.272434282233007e-05\n",
            "epoch 497, loss 5.196709753363393e-05\n",
            "epoch 498, loss 5.122053698869422e-05\n",
            "epoch 499, loss 5.0486189138609916e-05\n",
            "predict (after training) 4 8.00816822052002\n"
          ]
        }
      ],
      "source": [
        "\n",
        "for epoch in range(500):\n",
        " \n",
        "    # Forward pass: Compute predicted y by passing\n",
        "    # x to the model\n",
        "    pred_y = model(x_data)\n",
        " \n",
        "    # Compute and print loss\n",
        "    loss = criterion(pred_y, y_data)\n",
        " \n",
        "    # Zero gradients, perform a backward pass,\n",
        "    # and update the weights.\n",
        "    optimizer.zero_grad()\n",
        "    loss.backward()\n",
        "    optimizer.step()\n",
        "    print('epoch {}, loss {}'.format(epoch, loss.item()))\n",
        " \n",
        "new_var = Variable(torch.Tensor([[4.0]]))\n",
        "pred_y = model(new_var)\n",
        "print(\"predict (after training)\", 4, model(new_var).item())"
      ]
    },
    {
      "cell_type": "code",
      "execution_count": 19,
      "metadata": {
        "id": "BLZucAk-adF0"
      },
      "outputs": [
        {
          "data": {
            "text/plain": [
              "[Parameter containing:\n",
              " tensor([[-0.2907]], requires_grad=True),\n",
              " Parameter containing:\n",
              " tensor([0.0678], requires_grad=True)]"
            ]
          },
          "execution_count": 19,
          "metadata": {},
          "output_type": "execute_result"
        }
      ],
      "source": [
        "# logistic regression class\n",
        "import torch.nn as nn\n",
        "class LogisticRegression(nn.Module):\n",
        "    def __init__(self, n_input_features):\n",
        "        super(LogisticRegression, self).__init__()\n",
        "        self.linear = nn.Linear(n_input_features, 1)\n",
        "    \n",
        "    #sigmoid transformation of the input \n",
        "    def forward(self, x):\n",
        "        y_pred = torch.sigmoid(self.linear(x))\n",
        "        return y_pred\n",
        "\n",
        "model= LinearRegressionModel()\n",
        "list(model.parameters())"
      ]
    },
    {
      "cell_type": "code",
      "execution_count": 17,
      "metadata": {},
      "outputs": [],
      "source": [
        "num_epochs = 500                                        \n",
        "learning_rate = 0.0001                               \n",
        "criterion = nn.BCELoss() # Binary Cross entropy loss                         \n",
        "optimizer = torch.optim.SGD(model.parameters(), lr=learning_rate)      "
      ]
    },
    {
      "cell_type": "code",
      "execution_count": null,
      "metadata": {},
      "outputs": [],
      "source": []
    }
  ],
  "metadata": {
    "colab": {
      "collapsed_sections": [],
      "provenance": []
    },
    "gpuClass": "standard",
    "kernelspec": {
      "display_name": "Python 3",
      "language": "python",
      "name": "python3"
    },
    "language_info": {
      "codemirror_mode": {
        "name": "ipython",
        "version": 3
      },
      "file_extension": ".py",
      "mimetype": "text/x-python",
      "name": "python",
      "nbconvert_exporter": "python",
      "pygments_lexer": "ipython3",
      "version": "3.9.6"
    },
    "vscode": {
      "interpreter": {
        "hash": "c0a3c91513ce8330cc510c252bd0d2b8c5edf3f02855cf0373cb264a8e18d0f0"
      }
    }
  },
  "nbformat": 4,
  "nbformat_minor": 0
}
