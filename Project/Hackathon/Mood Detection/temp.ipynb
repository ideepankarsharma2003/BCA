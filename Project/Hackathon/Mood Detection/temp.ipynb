{
 "cells": [
  {
   "cell_type": "code",
   "execution_count": 3,
   "metadata": {},
   "outputs": [],
   "source": [
    "import cv2\n",
    "img = cv2.imread(\"inputs/img.jpeg\", cv2.IMREAD_COLOR)\n",
    "cv2.imshow(\"me\", img)\n",
    "cv2.waitKey(0)\n",
    "cv2.destroyAllWindows()"
   ]
  },
  {
   "attachments": {},
   "cell_type": "markdown",
   "metadata": {},
   "source": [
    "# not working for OPEN CV"
   ]
  },
  {
   "cell_type": "code",
   "execution_count": 1,
   "metadata": {},
   "outputs": [],
   "source": [
    "import cv2\n",
    "from fer import FER\n",
    "import matplotlib.pyplot as plt\n",
    "import matplotlib.image as mpimg\n",
    "input_image = cv2.imread(\"inputs\\img.jpeg\")\n",
    "emotion_detector = FER(mtcnn=True)\n"
   ]
  },
  {
   "cell_type": "code",
   "execution_count": 2,
   "metadata": {},
   "outputs": [
    {
     "name": "stdout",
     "output_type": "stream",
     "text": [
      "1/1 [==============================] - 9s 9s/step\n",
      "1/1 [==============================] - 0s 258ms/step\n",
      "1/1 [==============================] - 0s 128ms/step\n",
      "1/1 [==============================] - 0s 119ms/step\n",
      "1/1 [==============================] - 0s 122ms/step\n",
      "1/1 [==============================] - 0s 117ms/step\n",
      "1/1 [==============================] - 0s 118ms/step\n",
      "1/1 [==============================] - 0s 124ms/step\n",
      "1/1 [==============================] - 0s 123ms/step\n",
      "1/1 [==============================] - 0s 129ms/step\n",
      "1/1 [==============================] - 0s 129ms/step\n",
      "2/2 [==============================] - 0s 91ms/step\n",
      "1/1 [==============================] - 0s 267ms/step\n"
     ]
    },
    {
     "data": {
      "text/plain": [
       "[{'box': [583, 69, 209, 262],\n",
       "  'emotions': {'angry': 0.02,\n",
       "   'disgust': 0.0,\n",
       "   'fear': 0.03,\n",
       "   'happy': 0.06,\n",
       "   'sad': 0.11,\n",
       "   'surprise': 0.0,\n",
       "   'neutral': 0.78}}]"
      ]
     },
     "execution_count": 2,
     "metadata": {},
     "output_type": "execute_result"
    }
   ],
   "source": [
    "test= plt.imread(\"inputs\\img.jpeg\")\n",
    "emotion_detector.detect_emotions(test)"
   ]
  },
  {
   "cell_type": "code",
   "execution_count": 4,
   "metadata": {},
   "outputs": [],
   "source": [
    "cv2.imshow(\"img\", input_image)\n",
    "cv2.waitKey(0)\n",
    "cv2.destroyAllWindows()"
   ]
  },
  {
   "cell_type": "code",
   "execution_count": 5,
   "metadata": {},
   "outputs": [
    {
     "data": {
      "text/plain": [
       "array([[[160, 170, 120],\n",
       "        [160, 170, 120],\n",
       "        [161, 169, 120],\n",
       "        ...,\n",
       "        [118, 127,  84],\n",
       "        [118, 127,  84],\n",
       "        [118, 127,  84]]], dtype=uint8)"
      ]
     },
     "execution_count": 5,
     "metadata": {},
     "output_type": "execute_result"
    }
   ],
   "source": [
    "test[:1]"
   ]
  },
  {
   "cell_type": "code",
   "execution_count": 20,
   "metadata": {},
   "outputs": [
    {
     "data": {
      "text/plain": [
       "array([[[120, 170, 160],\n",
       "        [120, 170, 160],\n",
       "        [120, 169, 161],\n",
       "        ...,\n",
       "        [ 84, 127, 118],\n",
       "        [ 84, 127, 118],\n",
       "        [ 84, 127, 118]]], dtype=uint8)"
      ]
     },
     "execution_count": 20,
     "metadata": {},
     "output_type": "execute_result"
    }
   ],
   "source": [
    "input_image[:1] # opencv m sala ulta ho jata hai -----> BGR color"
   ]
  },
  {
   "cell_type": "code",
   "execution_count": 21,
   "metadata": {},
   "outputs": [
    {
     "data": {
      "text/plain": [
       "array([[[160, 170, 120],\n",
       "        [160, 170, 120],\n",
       "        [161, 169, 120],\n",
       "        ...,\n",
       "        [118, 127,  84],\n",
       "        [118, 127,  84],\n",
       "        [118, 127,  84]]], dtype=uint8)"
      ]
     },
     "execution_count": 21,
     "metadata": {},
     "output_type": "execute_result"
    }
   ],
   "source": [
    "\n",
    "img= cv2.imread(\"inputs\\img.jpeg\")\n",
    "img= cv2.cvtColor(img, cv2.COLOR_BGR2RGB)\n",
    "img[:1]\n",
    "\n"
   ]
  },
  {
   "cell_type": "code",
   "execution_count": 23,
   "metadata": {},
   "outputs": [
    {
     "name": "stdout",
     "output_type": "stream",
     "text": [
      "1/1 [==============================] - 0s 43ms/step\n",
      "1/1 [==============================] - 0s 43ms/step\n",
      "1/1 [==============================] - 0s 36ms/step\n",
      "1/1 [==============================] - 0s 40ms/step\n",
      "1/1 [==============================] - 0s 42ms/step\n",
      "1/1 [==============================] - 0s 41ms/step\n",
      "1/1 [==============================] - 0s 44ms/step\n",
      "1/1 [==============================] - 0s 41ms/step\n",
      "1/1 [==============================] - 0s 43ms/step\n",
      "1/1 [==============================] - 0s 39ms/step\n",
      "1/1 [==============================] - 0s 39ms/step\n",
      "2/2 [==============================] - 0s 7ms/step\n",
      "1/1 [==============================] - 0s 45ms/step\n"
     ]
    }
   ],
   "source": [
    "result= emotion_detector.detect_emotions(img)"
   ]
  },
  {
   "cell_type": "code",
   "execution_count": 24,
   "metadata": {},
   "outputs": [
    {
     "data": {
      "text/plain": [
       "[{'box': [583, 69, 209, 262],\n",
       "  'emotions': {'angry': 0.02,\n",
       "   'disgust': 0.0,\n",
       "   'fear': 0.03,\n",
       "   'happy': 0.06,\n",
       "   'sad': 0.11,\n",
       "   'surprise': 0.0,\n",
       "   'neutral': 0.78}}]"
      ]
     },
     "execution_count": 24,
     "metadata": {},
     "output_type": "execute_result"
    }
   ],
   "source": [
    "result"
   ]
  },
  {
   "cell_type": "code",
   "execution_count": 25,
   "metadata": {},
   "outputs": [],
   "source": [
    "import cv2\n",
    "\n",
    "from fer import FER\n",
    "\n",
    "import matplotlib.pyplot as plt\n",
    "\n",
    "import matplotlib.image as mpimg\n"
   ]
  },
  {
   "cell_type": "code",
   "execution_count": 38,
   "metadata": {},
   "outputs": [],
   "source": [
    "# Input Image\n",
    "input_image = cv2.imread(\"inputs/img.jpeg\")\n",
    "input_image= cv2.cvtColor(input_image, cv2.COLOR_BGR2RGB)\n",
    "emotion_detector = FER()\n",
    "# Output image's information\n",
    "results= (emotion_detector.detect_emotions(input_image))\n"
   ]
  },
  {
   "cell_type": "code",
   "execution_count": 39,
   "metadata": {},
   "outputs": [
    {
     "data": {
      "text/plain": [
       "[{'box': array([570,  67, 259, 259]),\n",
       "  'emotions': {'angry': 0.01,\n",
       "   'disgust': 0.0,\n",
       "   'fear': 0.02,\n",
       "   'happy': 0.03,\n",
       "   'sad': 0.06,\n",
       "   'surprise': 0.0,\n",
       "   'neutral': 0.88}}]"
      ]
     },
     "execution_count": 39,
     "metadata": {},
     "output_type": "execute_result"
    }
   ],
   "source": [
    "results"
   ]
  },
  {
   "cell_type": "code",
   "execution_count": 40,
   "metadata": {},
   "outputs": [
    {
     "data": {
      "text/plain": [
       "array([[[160, 170, 120],\n",
       "        [160, 170, 120],\n",
       "        [161, 169, 120],\n",
       "        ...,\n",
       "        [118, 127,  84],\n",
       "        [118, 127,  84],\n",
       "        [118, 127,  84]],\n",
       "\n",
       "       [[159, 169, 119],\n",
       "        [159, 169, 119],\n",
       "        [160, 168, 119],\n",
       "        ...,\n",
       "        [119, 128,  85],\n",
       "        [119, 128,  85],\n",
       "        [119, 128,  85]],\n",
       "\n",
       "       [[158, 167, 120],\n",
       "        [158, 167, 120],\n",
       "        [159, 167, 118],\n",
       "        ...,\n",
       "        [118, 129,  87],\n",
       "        [118, 129,  87],\n",
       "        [118, 129,  87]],\n",
       "\n",
       "       ...,\n",
       "\n",
       "       [[ 88,  92,  69],\n",
       "        [ 88,  92,  69],\n",
       "        [ 87,  92,  69],\n",
       "        ...,\n",
       "        [101,  96, 100],\n",
       "        [100,  95,  99],\n",
       "        [100,  95,  99]],\n",
       "\n",
       "       [[ 89,  93,  70],\n",
       "        [ 89,  93,  70],\n",
       "        [ 87,  92,  69],\n",
       "        ...,\n",
       "        [107, 101, 105],\n",
       "        [106, 100, 104],\n",
       "        [106, 100, 104]],\n",
       "\n",
       "       [[ 89,  93,  70],\n",
       "        [ 89,  93,  70],\n",
       "        [ 88,  93,  70],\n",
       "        ...,\n",
       "        [107, 101, 105],\n",
       "        [105,  99, 103],\n",
       "        [105,  99, 103]]], dtype=uint8)"
      ]
     },
     "execution_count": 40,
     "metadata": {},
     "output_type": "execute_result"
    }
   ],
   "source": [
    "bounding_box = result[0][\"box\"]\n",
    "emotions = result[0][\"emotions\"]\n",
    "cv2.rectangle(input_image,(\n",
    "bounding_box[0], bounding_box[1]),(\n",
    "bounding_box[0] + bounding_box[2], bounding_box[1] + bounding_box[3]),\n",
    "\t\t\t(0, 155, 255), 2,)\n"
   ]
  },
  {
   "cell_type": "code",
   "execution_count": 41,
   "metadata": {},
   "outputs": [
    {
     "data": {
      "text/plain": [
       "True"
      ]
     },
     "execution_count": 41,
     "metadata": {},
     "output_type": "execute_result"
    }
   ],
   "source": [
    "emotion_name, score = emotion_detector.top_emotion(input_image )\n",
    "for index, (emotion_name, score) in enumerate(emotions.items()):\n",
    "    color = (211, 211,211) if score < 0.01 else (255, 0, 0)\n",
    "emotion_score = \"{}: {}\".format(emotion_name, \"{:.2f}\".format(score))\n",
    "\n",
    "cv2.putText(input_image,emotion_score,\n",
    "\t\t\t(bounding_box[0], bounding_box[1] + bounding_box[3] + 30 + index * 15),\n",
    "\t\t\tcv2.FONT_HERSHEY_SIMPLEX,0.5,color,1,cv2.LINE_AA,)\n",
    "\n",
    "#Save the result in new image file\n",
    "input_image= cv2.cvtColor(input_image, cv2.COLOR_RGB2BGR)\n",
    "cv2.imwrite(\"emotion.jpg\", input_image)\n"
   ]
  },
  {
   "cell_type": "code",
   "execution_count": null,
   "metadata": {},
   "outputs": [],
   "source": []
  }
 ],
 "metadata": {
  "kernelspec": {
   "display_name": "Python 3",
   "language": "python",
   "name": "python3"
  },
  "language_info": {
   "codemirror_mode": {
    "name": "ipython",
    "version": 3
   },
   "file_extension": ".py",
   "mimetype": "text/x-python",
   "name": "python",
   "nbconvert_exporter": "python",
   "pygments_lexer": "ipython3",
   "version": "3.9.6 (tags/v3.9.6:db3ff76, Jun 28 2021, 15:26:21) [MSC v.1929 64 bit (AMD64)]"
  },
  "orig_nbformat": 4,
  "vscode": {
   "interpreter": {
    "hash": "c0a3c91513ce8330cc510c252bd0d2b8c5edf3f02855cf0373cb264a8e18d0f0"
   }
  }
 },
 "nbformat": 4,
 "nbformat_minor": 2
}
