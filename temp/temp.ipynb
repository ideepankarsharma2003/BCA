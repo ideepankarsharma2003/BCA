{
 "cells": [
  {
   "cell_type": "code",
   "execution_count": 3,
   "metadata": {},
   "outputs": [],
   "source": [
    "def get_first_round_key(key):\n",
    "  # Divide the key into two halves\n",
    "  left_half = key[:32]\n",
    "  right_half = key[32:]\n",
    "\n",
    "  # Shift the right half by one bit to the left\n",
    "  shifted_right_half = right_half[1:] + right_half[0]\n",
    "\n",
    "  # Permute the right half using the following permutation table:\n",
    "  permuted_right_half = ''\n",
    "  for i in [56, 48, 40, 32, 24, 16, 8, 0, 62, 54, 46, 38, 30, 22, 14, 6, 4, 12, 20, 28, 36, 44, 52, 60, 10, 18, 26, 34, 42, 50, 58, 66]:\n",
    "    permuted_right_half += shifted_right_half[i]\n",
    "\n",
    "  # XOR the permuted right half with the left half\n",
    "  xored_halves = ''\n",
    "  for i in range(32):\n",
    "    xored_halves += str(int(left_half[i]) ^ int(permuted_right_half[i]))\n",
    "\n",
    "  # The first round key is the concatenation of the left and right halves\n",
    "  first_round_key = xored_halves + shifted_right_half\n",
    "  return first_round_key\n"
   ]
  },
  {
   "cell_type": "code",
   "execution_count": 8,
   "metadata": {},
   "outputs": [],
   "source": [
    "def hexToBinary(hex):\n",
    "  # Initialize an empty string to store the binary equivalent\n",
    "  sb = ''\n",
    "\n",
    "  # Iterate over each character in the hexadecimal string\n",
    "  for c in hex:\n",
    "    # Append the binary equivalent of the hexadecimal character to the string\n",
    "    sb += {\n",
    "      '0': '0000',\n",
    "      '1': '0001',\n",
    "      '2': '0010',\n",
    "      '3': '0011',\n",
    "      '4': '0100',\n",
    "      '5': '0101',\n",
    "      '6': '0110',\n",
    "      '7': '0111',\n",
    "      '8': '1000',\n",
    "      '9': '1001',\n",
    "      'A': '1010',\n",
    "      'B': '1011',\n",
    "      'C': '1100',\n",
    "      'D': '1101',\n",
    "      'E': '1110',\n",
    "      'F': '1111'\n",
    "    }[c]\n",
    "\n",
    "  # Return the binary string\n",
    "  return sb\n"
   ]
  },
  {
   "cell_type": "code",
   "execution_count": 13,
   "metadata": {},
   "outputs": [
    {
     "name": "stdout",
     "output_type": "stream",
     "text": [
      "0000000100100011101010111100110100100101011000100001010001010110\n",
      "64\n"
     ]
    },
    {
     "ename": "IndexError",
     "evalue": "string index out of range",
     "output_type": "error",
     "traceback": [
      "\u001b[1;31m---------------------------------------------------------------------------\u001b[0m",
      "\u001b[1;31mIndexError\u001b[0m                                Traceback (most recent call last)",
      "\u001b[1;32mc:\\Deepankar\\05_Semester\\temp\\temp.ipynb Cell 3\u001b[0m in \u001b[0;36m<cell line: 12>\u001b[1;34m()\u001b[0m\n\u001b[0;32m      <a href='vscode-notebook-cell:/c%3A/Deepankar/05_Semester/temp/temp.ipynb#W5sZmlsZQ%3D%3D?line=8'>9</a>\u001b[0m \u001b[39mprint\u001b[39m(\u001b[39mlen\u001b[39m(key_binary))\n\u001b[0;32m     <a href='vscode-notebook-cell:/c%3A/Deepankar/05_Semester/temp/temp.ipynb#W5sZmlsZQ%3D%3D?line=10'>11</a>\u001b[0m \u001b[39m# Generate the first round key\u001b[39;00m\n\u001b[1;32m---> <a href='vscode-notebook-cell:/c%3A/Deepankar/05_Semester/temp/temp.ipynb#W5sZmlsZQ%3D%3D?line=11'>12</a>\u001b[0m first_round_key \u001b[39m=\u001b[39m get_first_round_key(key_binary)\n\u001b[0;32m     <a href='vscode-notebook-cell:/c%3A/Deepankar/05_Semester/temp/temp.ipynb#W5sZmlsZQ%3D%3D?line=13'>14</a>\u001b[0m \u001b[39m# Print the first round key\u001b[39;00m\n\u001b[0;32m     <a href='vscode-notebook-cell:/c%3A/Deepankar/05_Semester/temp/temp.ipynb#W5sZmlsZQ%3D%3D?line=14'>15</a>\u001b[0m \u001b[39mprint\u001b[39m(first_round_key)\n",
      "\u001b[1;32mc:\\Deepankar\\05_Semester\\temp\\temp.ipynb Cell 3\u001b[0m in \u001b[0;36mget_first_round_key\u001b[1;34m(key)\u001b[0m\n\u001b[0;32m     <a href='vscode-notebook-cell:/c%3A/Deepankar/05_Semester/temp/temp.ipynb#W5sZmlsZQ%3D%3D?line=9'>10</a>\u001b[0m permuted_right_half \u001b[39m=\u001b[39m \u001b[39m'\u001b[39m\u001b[39m'\u001b[39m\n\u001b[0;32m     <a href='vscode-notebook-cell:/c%3A/Deepankar/05_Semester/temp/temp.ipynb#W5sZmlsZQ%3D%3D?line=10'>11</a>\u001b[0m \u001b[39mfor\u001b[39;00m i \u001b[39min\u001b[39;00m [\u001b[39m56\u001b[39m, \u001b[39m48\u001b[39m, \u001b[39m40\u001b[39m, \u001b[39m32\u001b[39m, \u001b[39m24\u001b[39m, \u001b[39m16\u001b[39m, \u001b[39m8\u001b[39m, \u001b[39m0\u001b[39m, \u001b[39m62\u001b[39m, \u001b[39m54\u001b[39m, \u001b[39m46\u001b[39m, \u001b[39m38\u001b[39m, \u001b[39m30\u001b[39m, \u001b[39m22\u001b[39m, \u001b[39m14\u001b[39m, \u001b[39m6\u001b[39m, \u001b[39m4\u001b[39m, \u001b[39m12\u001b[39m, \u001b[39m20\u001b[39m, \u001b[39m28\u001b[39m, \u001b[39m36\u001b[39m, \u001b[39m44\u001b[39m, \u001b[39m52\u001b[39m, \u001b[39m60\u001b[39m, \u001b[39m10\u001b[39m, \u001b[39m18\u001b[39m, \u001b[39m26\u001b[39m, \u001b[39m34\u001b[39m, \u001b[39m42\u001b[39m, \u001b[39m50\u001b[39m, \u001b[39m58\u001b[39m, \u001b[39m66\u001b[39m]:\n\u001b[1;32m---> <a href='vscode-notebook-cell:/c%3A/Deepankar/05_Semester/temp/temp.ipynb#W5sZmlsZQ%3D%3D?line=11'>12</a>\u001b[0m   permuted_right_half \u001b[39m+\u001b[39m\u001b[39m=\u001b[39m shifted_right_half[i]\n\u001b[0;32m     <a href='vscode-notebook-cell:/c%3A/Deepankar/05_Semester/temp/temp.ipynb#W5sZmlsZQ%3D%3D?line=13'>14</a>\u001b[0m \u001b[39m# XOR the permuted right half with the left half\u001b[39;00m\n\u001b[0;32m     <a href='vscode-notebook-cell:/c%3A/Deepankar/05_Semester/temp/temp.ipynb#W5sZmlsZQ%3D%3D?line=14'>15</a>\u001b[0m xored_halves \u001b[39m=\u001b[39m \u001b[39m'\u001b[39m\u001b[39m'\u001b[39m\n",
      "\u001b[1;31mIndexError\u001b[0m: string index out of range"
     ]
    }
   ],
   "source": [
    "# Initialize the key\n",
    "key = '0123ABCD25621456'\n",
    "\n",
    "# Convert the key to a binary string\n",
    "key_binary = hexToBinary(key)\n",
    "\n",
    "# Print the binary equivalent of the key\n",
    "print(key_binary)\n",
    "print(len(key_binary))\n",
    "\n",
    "# Generate the first round key\n",
    "first_round_key = get_first_round_key(key_binary)\n",
    "\n",
    "# Print the first round key\n",
    "print(first_round_key)\n"
   ]
  },
  {
   "cell_type": "code",
   "execution_count": 12,
   "metadata": {},
   "outputs": [
    {
     "ename": "IndexError",
     "evalue": "string index out of range",
     "output_type": "error",
     "traceback": [
      "\u001b[1;31m---------------------------------------------------------------------------\u001b[0m",
      "\u001b[1;31mIndexError\u001b[0m                                Traceback (most recent call last)",
      "\u001b[1;32mc:\\Deepankar\\05_Semester\\temp\\temp.ipynb Cell 4\u001b[0m in \u001b[0;36m<cell line: 8>\u001b[1;34m()\u001b[0m\n\u001b[0;32m      <a href='vscode-notebook-cell:/c%3A/Deepankar/05_Semester/temp/temp.ipynb#W1sZmlsZQ%3D%3D?line=4'>5</a>\u001b[0m key_binary \u001b[39m=\u001b[39m hexToBinary(key)\n\u001b[0;32m      <a href='vscode-notebook-cell:/c%3A/Deepankar/05_Semester/temp/temp.ipynb#W1sZmlsZQ%3D%3D?line=6'>7</a>\u001b[0m \u001b[39m# Generate the first round key\u001b[39;00m\n\u001b[1;32m----> <a href='vscode-notebook-cell:/c%3A/Deepankar/05_Semester/temp/temp.ipynb#W1sZmlsZQ%3D%3D?line=7'>8</a>\u001b[0m first_round_key \u001b[39m=\u001b[39m get_first_round_key(key_binary)\n\u001b[0;32m     <a href='vscode-notebook-cell:/c%3A/Deepankar/05_Semester/temp/temp.ipynb#W1sZmlsZQ%3D%3D?line=9'>10</a>\u001b[0m \u001b[39m# Print the first round key\u001b[39;00m\n\u001b[0;32m     <a href='vscode-notebook-cell:/c%3A/Deepankar/05_Semester/temp/temp.ipynb#W1sZmlsZQ%3D%3D?line=10'>11</a>\u001b[0m \u001b[39mprint\u001b[39m(first_round_key)\n",
      "\u001b[1;32mc:\\Deepankar\\05_Semester\\temp\\temp.ipynb Cell 4\u001b[0m in \u001b[0;36mget_first_round_key\u001b[1;34m(key)\u001b[0m\n\u001b[0;32m     <a href='vscode-notebook-cell:/c%3A/Deepankar/05_Semester/temp/temp.ipynb#W1sZmlsZQ%3D%3D?line=9'>10</a>\u001b[0m permuted_right_half \u001b[39m=\u001b[39m \u001b[39m'\u001b[39m\u001b[39m'\u001b[39m\n\u001b[0;32m     <a href='vscode-notebook-cell:/c%3A/Deepankar/05_Semester/temp/temp.ipynb#W1sZmlsZQ%3D%3D?line=10'>11</a>\u001b[0m \u001b[39mfor\u001b[39;00m i \u001b[39min\u001b[39;00m [\u001b[39m56\u001b[39m, \u001b[39m48\u001b[39m, \u001b[39m40\u001b[39m, \u001b[39m32\u001b[39m, \u001b[39m24\u001b[39m, \u001b[39m16\u001b[39m, \u001b[39m8\u001b[39m, \u001b[39m0\u001b[39m, \u001b[39m62\u001b[39m, \u001b[39m54\u001b[39m, \u001b[39m46\u001b[39m, \u001b[39m38\u001b[39m, \u001b[39m30\u001b[39m, \u001b[39m22\u001b[39m, \u001b[39m14\u001b[39m, \u001b[39m6\u001b[39m, \u001b[39m4\u001b[39m, \u001b[39m12\u001b[39m, \u001b[39m20\u001b[39m, \u001b[39m28\u001b[39m, \u001b[39m36\u001b[39m, \u001b[39m44\u001b[39m, \u001b[39m52\u001b[39m, \u001b[39m60\u001b[39m, \u001b[39m10\u001b[39m, \u001b[39m18\u001b[39m, \u001b[39m26\u001b[39m, \u001b[39m34\u001b[39m, \u001b[39m42\u001b[39m, \u001b[39m50\u001b[39m, \u001b[39m58\u001b[39m, \u001b[39m66\u001b[39m]:\n\u001b[1;32m---> <a href='vscode-notebook-cell:/c%3A/Deepankar/05_Semester/temp/temp.ipynb#W1sZmlsZQ%3D%3D?line=11'>12</a>\u001b[0m   permuted_right_half \u001b[39m+\u001b[39m\u001b[39m=\u001b[39m shifted_right_half[i]\n\u001b[0;32m     <a href='vscode-notebook-cell:/c%3A/Deepankar/05_Semester/temp/temp.ipynb#W1sZmlsZQ%3D%3D?line=13'>14</a>\u001b[0m \u001b[39m# XOR the permuted right half with the left half\u001b[39;00m\n\u001b[0;32m     <a href='vscode-notebook-cell:/c%3A/Deepankar/05_Semester/temp/temp.ipynb#W1sZmlsZQ%3D%3D?line=14'>15</a>\u001b[0m xored_halves \u001b[39m=\u001b[39m \u001b[39m'\u001b[39m\u001b[39m'\u001b[39m\n",
      "\u001b[1;31mIndexError\u001b[0m: string index out of range"
     ]
    }
   ],
   "source": [
    "# Initialize the key\n",
    "key = '0123ABCD25621456'\n",
    "\n",
    "# Convert the key to a binary string\n",
    "key_binary = hexToBinary(key)\n",
    "\n",
    "# Generate the first round key\n",
    "first_round_key = get_first_round_key(key_binary)\n",
    "\n",
    "# Print the first round key\n",
    "print(first_round_key)"
   ]
  },
  {
   "cell_type": "code",
   "execution_count": null,
   "metadata": {},
   "outputs": [],
   "source": []
  }
 ],
 "metadata": {
  "kernelspec": {
   "display_name": "Python 3",
   "language": "python",
   "name": "python3"
  },
  "language_info": {
   "codemirror_mode": {
    "name": "ipython",
    "version": 3
   },
   "file_extension": ".py",
   "mimetype": "text/x-python",
   "name": "python",
   "nbconvert_exporter": "python",
   "pygments_lexer": "ipython3",
   "version": "3.9.6"
  },
  "orig_nbformat": 4,
  "vscode": {
   "interpreter": {
    "hash": "c0a3c91513ce8330cc510c252bd0d2b8c5edf3f02855cf0373cb264a8e18d0f0"
   }
  }
 },
 "nbformat": 4,
 "nbformat_minor": 2
}
